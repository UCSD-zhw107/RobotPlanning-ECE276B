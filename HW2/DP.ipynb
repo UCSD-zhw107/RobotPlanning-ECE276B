{
 "cells": [
  {
   "cell_type": "code",
   "execution_count": 1,
   "id": "initial_id",
   "metadata": {
    "ExecuteTime": {
     "end_time": "2025-05-11T22:19:11.926096Z",
     "start_time": "2025-05-11T22:19:11.064383Z"
    },
    "collapsed": true
   },
   "outputs": [],
   "source": [
    "import numpy as np\n",
    "import matplotlib.pyplot as plt\n",
    "from collections import defaultdict"
   ]
  },
  {
   "cell_type": "code",
   "execution_count": 17,
   "id": "72bddc142f62d100",
   "metadata": {
    "ExecuteTime": {
     "end_time": "2025-05-10T23:36:09.001428Z",
     "start_time": "2025-05-10T23:36:08.997560Z"
    }
   },
   "outputs": [],
   "source": [
    "vertices = ['A', \"B\", \"C\", \"D\", \"E\", \"F\", 'S', 'T']\n",
    "graph = defaultdict(dict)\n",
    "graph['S']['B'] = 18\n",
    "graph['S']['C'] = 10\n",
    "graph['S']['A'] = 12\n",
    "graph['C']['F'] = 15\n",
    "graph['F']['E'] = 14\n",
    "graph['B']['F'] = 8\n",
    "graph['B']['D'] = 21\n",
    "graph['A']['D'] = 21\n",
    "graph['A']['E'] = 40\n",
    "graph['E']['T'] = 16\n",
    "graph['D']['T'] = 27\n",
    "T = len(vertices) - 1\n",
    "value = defaultdict(dict)\n",
    "policy = defaultdict(dict)"
   ]
  },
  {
   "cell_type": "code",
   "execution_count": 18,
   "id": "de1043fe7972c623",
   "metadata": {
    "ExecuteTime": {
     "end_time": "2025-05-10T23:36:09.546506Z",
     "start_time": "2025-05-10T23:36:09.543048Z"
    }
   },
   "outputs": [],
   "source": [
    "# initialize\n",
    "for i in range(T+1):\n",
    "    value[i][\"T\"] = 0\n",
    "\n",
    "for v in vertices:\n",
    "    if v == \"T\":\n",
    "        continue\n",
    "    value[T][v] = np.inf\n",
    "    cost = graph[v].get('T', float('inf'))\n",
    "    value[T-1][v] = cost\n",
    "    policy[T-1][v] = \"T\""
   ]
  },
  {
   "cell_type": "code",
   "execution_count": 19,
   "id": "2ebf6541f7a8807d",
   "metadata": {
    "ExecuteTime": {
     "end_time": "2025-05-10T23:36:12.856528Z",
     "start_time": "2025-05-10T23:36:12.852443Z"
    }
   },
   "outputs": [],
   "source": [
    "for t in range(T-2, -1, -1):\n",
    "    for i in vertices:\n",
    "        best_value = np.inf\n",
    "        best_policy = None\n",
    "        if i == \"T\":\n",
    "            continue\n",
    "        for j in vertices:\n",
    "            cost = graph[i].get(j, float('inf'))\n",
    "            val = value[t+1].get(j, float('inf'))\n",
    "            if val + cost < best_value:\n",
    "                best_value = val + cost\n",
    "                best_policy = j\n",
    "        value[t][i] = best_value\n",
    "        policy[t][i] = best_policy\n"
   ]
  },
  {
   "cell_type": "code",
   "execution_count": 23,
   "id": "1c58c873a07e9584",
   "metadata": {
    "ExecuteTime": {
     "end_time": "2025-05-10T23:44:02.560763Z",
     "start_time": "2025-05-10T23:44:02.555826Z"
    }
   },
   "outputs": [
    {
     "name": "stdout",
     "output_type": "stream",
     "text": [
      "Start from A: ['D', 'T'], cost:48\n",
      "Start from B: ['F', 'E', 'T'], cost:38\n",
      "Start from C: ['F', 'E', 'T'], cost:45\n",
      "Start from D: ['T'], cost:27\n",
      "Start from E: ['T'], cost:16\n",
      "Start from F: ['E', 'T'], cost:30\n",
      "Start from S: ['C', 'F', 'E', 'T'], cost:55\n"
     ]
    }
   ],
   "source": [
    "# reconstruct path\n",
    "for v in vertices:\n",
    "    if v == \"T\":\n",
    "        continue\n",
    "    current_node = v\n",
    "    t = 0\n",
    "    path = []\n",
    "    while current_node != \"T\":\n",
    "        current_node = policy[t][current_node]\n",
    "        path.append(current_node)\n",
    "        t += 1\n",
    "    print(f\"Start from {v}: {path}, cost:{value[0][v]}\")"
   ]
  }
 ],
 "metadata": {
  "kernelspec": {
   "display_name": "Python 3",
   "language": "python",
   "name": "python3"
  },
  "language_info": {
   "codemirror_mode": {
    "name": "ipython",
    "version": 3
   },
   "file_extension": ".py",
   "mimetype": "text/x-python",
   "name": "python",
   "nbconvert_exporter": "python",
   "pygments_lexer": "ipython3",
   "version": "undefined.undefined.undefined"
  }
 },
 "nbformat": 4,
 "nbformat_minor": 5
}
