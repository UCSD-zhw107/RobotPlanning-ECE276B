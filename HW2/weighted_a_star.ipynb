{
 "cells": [
  {
   "cell_type": "code",
   "id": "initial_id",
   "metadata": {
    "collapsed": true,
    "ExecuteTime": {
     "end_time": "2025-05-11T05:51:20.346556Z",
     "start_time": "2025-05-11T05:51:20.342307Z"
    }
   },
   "source": [
    "import numpy as np\n",
    "from collections import defaultdict\n",
    "import heapq\n",
    "from pqdict import pqdict"
   ],
   "outputs": [],
   "execution_count": 123
  },
  {
   "metadata": {
    "ExecuteTime": {
     "end_time": "2025-05-11T05:51:20.858789Z",
     "start_time": "2025-05-11T05:51:20.853591Z"
    }
   },
   "cell_type": "code",
   "source": [
    "def tie_breaking_precedes(a, b):\n",
    "    # a, b are (priority, key) tuples\n",
    "    # Prefer smaller priority first; if equal, prefer smaller key\n",
    "    return a[0] < b[0] or (a[0] == b[0] and a[1] < b[1])"
   ],
   "id": "d68d104ceca208c1",
   "outputs": [],
   "execution_count": 124
  },
  {
   "metadata": {
    "ExecuteTime": {
     "end_time": "2025-05-11T05:51:21.267864Z",
     "start_time": "2025-05-11T05:51:21.263502Z"
    }
   },
   "cell_type": "code",
   "source": [
    "vertices = [1,2,3,4,5,6,7]\n",
    "edges = defaultdict(dict)\n",
    "edges[1][3] = 5\n",
    "edges[1][5] = 2\n",
    "edges[1][6] = 5\n",
    "edges[2][5] = 9\n",
    "edges[2][6] = 1\n",
    "edges[3][4] = 1\n",
    "edges[3][5] = 1\n",
    "edges[5][6] = 4\n",
    "edges[5][3] = 1\n",
    "edges[6][7] = 5\n",
    "edges[6][1] = 5\n",
    "edges[7][4] = 5\n",
    "\n",
    "\n",
    "# heuristic\n",
    "heuristic = {}\n",
    "heuristic[1] = 1\n",
    "heuristic[2] = 10\n",
    "heuristic[3] = 3\n",
    "heuristic[4] = 0\n",
    "heuristic[5] = 2\n",
    "heuristic[6] = 7\n",
    "heuristic[7] = 5\n",
    "\n",
    "start = 2\n",
    "goal = 4"
   ],
   "id": "c88936b180f5f2f1",
   "outputs": [],
   "execution_count": 125
  },
  {
   "metadata": {
    "ExecuteTime": {
     "end_time": "2025-05-11T05:51:21.901268Z",
     "start_time": "2025-05-11T05:51:21.894853Z"
    }
   },
   "cell_type": "code",
   "source": [
    "class Node(object):\n",
    "    def __init__(self, key):\n",
    "        self.key = key\n",
    "        self.parent = None\n",
    "        self.f = float('inf')\n",
    "        self.g = float('inf')\n",
    "        self.h = 0.0\n",
    "        self.is_open = False\n",
    "        self.is_closed = False\n",
    "        self.children = []\n",
    "        self.v = float('inf')\n",
    "\n",
    "    def setParent(self, parent):\n",
    "        self.parent = parent\n",
    "\n",
    "    def setChildren(self, children):\n",
    "        self.children = children\n",
    "\n",
    "    def setG(self, g):\n",
    "        self.g = g\n",
    "        self.f = self.g + self.h\n",
    "\n",
    "    def setHeuristic(self, h):\n",
    "        self.h = h\n",
    "        self.f = self.g + self.h\n",
    "\n",
    "    def setV(self, v):\n",
    "        self.v = v\n",
    "\n",
    "    def getHeuristic(self):\n",
    "        return self.h\n",
    "\n",
    "    def isOpen(self):\n",
    "        return self.is_open\n",
    "\n",
    "    def isClosed(self):\n",
    "        return self.is_closed\n",
    "\n",
    "    def getParent(self):\n",
    "        return self.parent\n",
    "\n",
    "    def getG(self):\n",
    "        return self.g\n",
    "\n",
    "    def getF(self):\n",
    "        self.f = self.g + self.h\n",
    "        return self.f"
   ],
   "id": "28a404d94cd340e0",
   "outputs": [],
   "execution_count": 126
  },
  {
   "metadata": {
    "ExecuteTime": {
     "end_time": "2025-05-11T05:51:22.513889Z",
     "start_time": "2025-05-11T05:51:22.502255Z"
    }
   },
   "cell_type": "code",
   "source": [
    "class A_Star():\n",
    "    def __init__(self, start, goal, heuristic, edges, vertices, step=4, epsilon=2):\n",
    "        self.start = start\n",
    "        self.goal = goal\n",
    "        self.heuristic = heuristic\n",
    "        self.step = step\n",
    "        self.edges = edges\n",
    "        self.vertices = vertices\n",
    "        self.eps = epsilon\n",
    "\n",
    "    def initialize(self, start):\n",
    "        open_heap = pqdict(precedes=tie_breaking_precedes).minpq()\n",
    "        nodes = {}\n",
    "        for v in self.vertices:\n",
    "            node = Node(v)\n",
    "            node.setHeuristic(self.heuristic[v] * self.eps)\n",
    "            node.setChildren(list(self.edges[v].keys()))\n",
    "            if v == start:\n",
    "                node.setG(0)\n",
    "                node.is_open = True\n",
    "                f = node.getF()\n",
    "                open_heap[v] = (f, v)\n",
    "            nodes[v] = node\n",
    "        return open_heap, nodes\n",
    "\n",
    "    def find_node(self, nodes, key):\n",
    "        return nodes.get(key)\n",
    "\n",
    "    def run(self):\n",
    "        self.open_heap, self.node_dict = self.initialize(self.start)\n",
    "        self.closed_list = []\n",
    "        expanded_count = 0\n",
    "        self.inconsist = []\n",
    "\n",
    "        while self.open_heap and expanded_count < self.step:\n",
    "            print(\"================================================\")\n",
    "            print(f\"Iteration {expanded_count}\")\n",
    "            # Get the node with the lowest f-score\n",
    "            item = self.open_heap.popitem()\n",
    "            current_key = item[0]\n",
    "            current_f = item[1][0]\n",
    "            current_node = self.node_dict[current_key]\n",
    "            current_node.is_open = False\n",
    "            current_node.is_closed = True\n",
    "            self.closed_list.append(current_key)\n",
    "            current_node.setV(current_node.getG())\n",
    "            print(f\"Node exiting OPEN: {current_key}\")\n",
    "\n",
    "            # Check if goal reached\n",
    "            if current_key == self.goal:\n",
    "                return self.open_heap, self.closed_list, self.node_dict, self.inconsist, True\n",
    "\n",
    "            # expand node\n",
    "            for child_key, edge_cost in self.edges[current_key].items():\n",
    "                child_node = self.node_dict[child_key]\n",
    "\n",
    "                tentative_g = current_node.getG() + edge_cost\n",
    "                if tentative_g < child_node.getG():\n",
    "                    child_node.setParent(current_node)\n",
    "                    child_node.setG(tentative_g)\n",
    "\n",
    "                    # update\n",
    "                    if child_key in self.closed_list:\n",
    "                        self.inconsist.append(child_key)\n",
    "                    else:\n",
    "                        f = child_node.getF()\n",
    "                        self.open_heap[child_key] = (f, child_key)\n",
    "                        child_node.is_open = True\n",
    "            print(f\"OPEN: {list(self.open_heap.keys())}\")\n",
    "            for key, node in self.node_dict.items():\n",
    "                print(f\"Node {key}: {node.getG()}\")\n",
    "\n",
    "            expanded_count += 1\n",
    "        return self.open_heap, self.closed_list, self.node_dict, self.inconsist, False"
   ],
   "id": "5a20b9342518f33a",
   "outputs": [],
   "execution_count": 127
  },
  {
   "metadata": {
    "ExecuteTime": {
     "end_time": "2025-05-11T05:51:23.233568Z",
     "start_time": "2025-05-11T05:51:23.230045Z"
    }
   },
   "cell_type": "code",
   "source": [
    "a_start = A_Star(start, goal, heuristic.copy(), edges, vertices, step=5, epsilon=2)\n",
    "open_heap, close_list, node_dict, inconsist, is_goal = a_start.run()"
   ],
   "id": "dc7911dfcd747218",
   "outputs": [
    {
     "name": "stdout",
     "output_type": "stream",
     "text": [
      "================================================\n",
      "Iteration 0\n",
      "Node exiting OPEN: 2\n",
      "OPEN: [5, 6]\n",
      "Node 1: inf\n",
      "Node 2: 0\n",
      "Node 3: inf\n",
      "Node 4: inf\n",
      "Node 5: 9\n",
      "Node 6: 1\n",
      "Node 7: inf\n",
      "================================================\n",
      "Iteration 1\n",
      "Node exiting OPEN: 5\n",
      "OPEN: [6, 3]\n",
      "Node 1: inf\n",
      "Node 2: 0\n",
      "Node 3: 10\n",
      "Node 4: inf\n",
      "Node 5: 9\n",
      "Node 6: 1\n",
      "Node 7: inf\n",
      "================================================\n",
      "Iteration 2\n",
      "Node exiting OPEN: 6\n",
      "OPEN: [1, 7, 3]\n",
      "Node 1: 6\n",
      "Node 2: 0\n",
      "Node 3: 10\n",
      "Node 4: inf\n",
      "Node 5: 9\n",
      "Node 6: 1\n",
      "Node 7: 6\n",
      "================================================\n",
      "Iteration 3\n",
      "Node exiting OPEN: 1\n",
      "OPEN: [3, 7]\n",
      "Node 1: 6\n",
      "Node 2: 0\n",
      "Node 3: 10\n",
      "Node 4: inf\n",
      "Node 5: 8\n",
      "Node 6: 1\n",
      "Node 7: 6\n",
      "================================================\n",
      "Iteration 4\n",
      "Node exiting OPEN: 3\n",
      "OPEN: [4, 7]\n",
      "Node 1: 6\n",
      "Node 2: 0\n",
      "Node 3: 10\n",
      "Node 4: 11\n",
      "Node 5: 8\n",
      "Node 6: 1\n",
      "Node 7: 6\n"
     ]
    }
   ],
   "execution_count": 128
  },
  {
   "metadata": {
    "ExecuteTime": {
     "end_time": "2025-05-11T05:51:24.207720Z",
     "start_time": "2025-05-11T05:51:24.203860Z"
    }
   },
   "cell_type": "code",
   "source": "print(inconsist)",
   "id": "b920dacf4ea98770",
   "outputs": [
    {
     "name": "stdout",
     "output_type": "stream",
     "text": [
      "[5]\n"
     ]
    }
   ],
   "execution_count": 129
  },
  {
   "metadata": {},
   "cell_type": "code",
   "outputs": [],
   "execution_count": null,
   "source": "",
   "id": "58d87e8951fb437f"
  }
 ],
 "metadata": {
  "kernelspec": {
   "display_name": "Python 3",
   "language": "python",
   "name": "python3"
  },
  "language_info": {
   "codemirror_mode": {
    "name": "ipython",
    "version": 2
   },
   "file_extension": ".py",
   "mimetype": "text/x-python",
   "name": "python",
   "nbconvert_exporter": "python",
   "pygments_lexer": "ipython2",
   "version": "2.7.6"
  }
 },
 "nbformat": 4,
 "nbformat_minor": 5
}
