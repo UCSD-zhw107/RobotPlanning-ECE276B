{
 "cells": [
  {
   "cell_type": "code",
   "id": "initial_id",
   "metadata": {
    "collapsed": true,
    "ExecuteTime": {
     "end_time": "2025-04-14T04:53:02.278709Z",
     "start_time": "2025-04-14T04:53:02.271719Z"
    }
   },
   "source": [
    "import numpy as np\n",
    "import matplotlib.pyplot as plt\n",
    "import sympy\n",
    "from itertools import product"
   ],
   "outputs": [],
   "execution_count": 11
  },
  {
   "metadata": {},
   "cell_type": "markdown",
   "source": "# Question 1",
   "id": "e4054f0aef08b239"
  },
  {
   "metadata": {
    "ExecuteTime": {
     "end_time": "2025-04-12T11:36:37.727757Z",
     "start_time": "2025-04-12T11:36:37.721640Z"
    }
   },
   "cell_type": "code",
   "source": [
    "# Question 1.1\n",
    "P = np.array([\n",
    "    [0, 0.5, 0.5, 0, 0, 0, 0, 0],\n",
    "    [0.3, 0.7, 0.0, 0, 0, 0, 0, 0],\n",
    "    [0.0, 0.0, 0.0, 0.7, 0, 0, 0, 0.3],\n",
    "    [0.0, 0.0, 0.0, 0.5, 0.5, 0, 0, 0],\n",
    "    [0.0, 0.0, 0.0, 0.0, 0.6, 0.4, 0, 0],\n",
    "    [0.0, 0.0, 0.0, 0.0, 0., 0.5, 0.5, 0],\n",
    "    [0.0, 0.0, 0.0, 0.0, 0., 0.4, 0., 0.6],\n",
    "    [0.0, 0.0, 0.0, 0.0, 0., 0.4, 0., 0.6],\n",
    "])\n"
   ],
   "id": "aa4585b163c56db9",
   "outputs": [],
   "execution_count": 3
  },
  {
   "metadata": {
    "ExecuteTime": {
     "end_time": "2025-04-12T11:36:39.158294Z",
     "start_time": "2025-04-12T11:36:39.142989Z"
    }
   },
   "cell_type": "code",
   "source": [
    "A = P.T - np.eye(P.shape[0])\n",
    "A = np.hstack((A, np.zeros(P.shape[0]).reshape(-1, 1)))\n",
    "mat = sympy.Matrix(A)\n",
    "print(mat.rref())"
   ],
   "id": "c72c68204c4d5740",
   "outputs": [
    {
     "name": "stdout",
     "output_type": "stream",
     "text": [
      "(Matrix([\n",
      "[1, 0, 0, 0, 0, 0, 0,                    0, 0],\n",
      "[0, 1, 0, 0, 0, 0, 0,                    0, 0],\n",
      "[0, 0, 1, 0, 0, 0, 0, 2.06514699521048e-16, 0],\n",
      "[0, 0, 0, 1, 0, 0, 0, 2.89120579329468e-16, 0],\n",
      "[0, 0, 0, 0, 1, 0, 0, 1.44560289664734e-16, 0],\n",
      "[0, 0, 0, 0, 0, 1, 0,    -1.33333333333333, 0],\n",
      "[0, 0, 0, 0, 0, 0, 1,   -0.666666666666667, 0],\n",
      "[0, 0, 0, 0, 0, 0, 0,                    0, 0]]), (0, 1, 2, 3, 4, 5, 6))\n"
     ]
    }
   ],
   "execution_count": 4
  },
  {
   "metadata": {
    "ExecuteTime": {
     "end_time": "2025-04-12T11:36:40.358050Z",
     "start_time": "2025-04-12T11:36:40.352169Z"
    }
   },
   "cell_type": "code",
   "source": [
    "x = np.array([0, 0, 0, 0, 0, 4/3, 2/3, 1]).reshape(-1, 1)\n",
    "print(P.T @ x)"
   ],
   "id": "70ae7bdf518cc82f",
   "outputs": [
    {
     "name": "stdout",
     "output_type": "stream",
     "text": [
      "[[0.        ]\n",
      " [0.        ]\n",
      " [0.        ]\n",
      " [0.        ]\n",
      " [0.        ]\n",
      " [1.33333333]\n",
      " [0.66666667]\n",
      " [1.        ]]\n"
     ]
    }
   ],
   "execution_count": 5
  },
  {
   "metadata": {
    "ExecuteTime": {
     "end_time": "2025-04-12T11:36:41.179879Z",
     "start_time": "2025-04-12T11:36:41.098887Z"
    }
   },
   "cell_type": "code",
   "source": [
    "# Question 1.3\n",
    "Q = np.array([\n",
    "    [0, 0.5, 0.5, 0, 0],\n",
    "    [0.3, 0.7, 0.0, 0, 0],\n",
    "    [0.0, 0.0, 0.0, 0.7, 0],\n",
    "    [0.0, 0.0, 0.5, 0.0, 0.5],\n",
    "    [0.0, 0.0, 0.0, 0.0, 0.6]\n",
    "])\n",
    "Z = np.eye(Q.shape[0]) - Q\n",
    "Z_inv = np.linalg.inv(Z)\n",
    "print(Z_inv)"
   ],
   "id": "9efae87e8afda848",
   "outputs": [
    {
     "name": "stdout",
     "output_type": "stream",
     "text": [
      "[[2.         3.33333333 1.53846154 1.07692308 1.34615385]\n",
      " [2.         6.66666667 1.53846154 1.07692308 1.34615385]\n",
      " [0.         0.         1.53846154 1.07692308 1.34615385]\n",
      " [0.         0.         0.76923077 1.53846154 1.92307692]\n",
      " [0.         0.         0.         0.         2.5       ]]\n"
     ]
    }
   ],
   "execution_count": 6
  },
  {
   "metadata": {
    "ExecuteTime": {
     "end_time": "2025-04-12T11:39:41.168391Z",
     "start_time": "2025-04-12T11:39:41.156124Z"
    }
   },
   "cell_type": "code",
   "source": [
    "# Question 1.4\n",
    "sub_A = P[:7, :7]\n",
    "sub_A = np.eye(sub_A.shape[0]) - sub_A\n",
    "sub_mat = np.hstack([sub_A, np.ones(sub_A.shape[0]).reshape(-1, 1)])\n",
    "sub_mat = sympy.Matrix(sub_mat)\n",
    "print(sub_mat.rref())"
   ],
   "id": "56818a3f3661587",
   "outputs": [
    {
     "name": "stdout",
     "output_type": "stream",
     "text": [
      "(Matrix([\n",
      "[1, 0, 0, 0, 0, 0, 0, 12.9833333333333],\n",
      "[0, 1, 0, 0, 0, 0, 0, 16.3166666666667],\n",
      "[0, 0, 1, 0, 0, 0, 0,             7.65],\n",
      "[0, 0, 0, 1, 0, 0, 0,              9.5],\n",
      "[0, 0, 0, 0, 1, 0, 0,              7.5],\n",
      "[0, 0, 0, 0, 0, 1, 0,              5.0],\n",
      "[0, 0, 0, 0, 0, 0, 1,              3.0]]), (0, 1, 2, 3, 4, 5, 6))\n"
     ]
    }
   ],
   "execution_count": 10
  },
  {
   "metadata": {},
   "cell_type": "markdown",
   "source": "# Question 2",
   "id": "bccc5f7e7a5f9126"
  },
  {
   "metadata": {
    "ExecuteTime": {
     "end_time": "2025-04-14T04:55:05.398468Z",
     "start_time": "2025-04-14T04:55:05.392912Z"
    }
   },
   "cell_type": "code",
   "source": [
    "P = np.array([\n",
    "    [0.1, 0., 0.9],\n",
    "    [0.7, 0.3, 0.0],\n",
    "    [0.0, 0.4, 0.6]\n",
    "])\n",
    "def visit_cost(state):\n",
    "    return 2 * state\n",
    "def terminate_cost(state):\n",
    "    return -1 * state"
   ],
   "id": "7c632e0cd5c893d7",
   "outputs": [],
   "execution_count": 13
  },
  {
   "metadata": {
    "ExecuteTime": {
     "end_time": "2025-04-14T04:38:53.643430Z",
     "start_time": "2025-04-14T04:38:53.634269Z"
    }
   },
   "cell_type": "code",
   "source": [
    "# Question 2.1\n",
    "p1 = P[0,0] * P[0,0] * P[0,2] * P[2,1]\n",
    "\n",
    "p2 = P[0,0] * P[0,2] * P[2,1] * P[1,0]\n",
    "\n",
    "p3 = P[0,0] * P[0,2] * P[2,1] * P[1,1]\n",
    "\n",
    "p4 = P[0,0] * P[0,2] * P[2,2] * P[2,1]\n",
    "\n",
    "p5 = P[0,2] * P[2,1] * P[1,0] * P[0,0]\n",
    "\n",
    "p6 = P[0,2] * P[2,1] * P[1,0] * P[0,2]\n",
    "\n",
    "p7 = P[0,2] * P[2,1] * P[1,1] * P[1,1]\n",
    "\n",
    "p8 = P[0,2] * P[2,1] * P[1,1] * P[1,0]\n",
    "\n",
    "p9 = P[0,2] * P[2,2] * P[2,1] * P[1,0]\n",
    "\n",
    "p10 = P[0,2] * P[2,2] * P[2,1] * P[1,1]\n",
    "p11 = P[0,2] * P[2,2] * P[2,2] * P[2,1]\n",
    "print(p1 + p2 + p3 + p4 + p5 + p6 + p7 + p8 + p9 + p10 + p11)"
   ],
   "id": "8eb311c500cc10f6",
   "outputs": [
    {
     "name": "stdout",
     "output_type": "stream",
     "text": [
      "0.7668\n"
     ]
    }
   ],
   "execution_count": 10
  },
  {
   "metadata": {
    "ExecuteTime": {
     "end_time": "2025-04-14T05:00:47.913584Z",
     "start_time": "2025-04-14T05:00:47.904855Z"
    }
   },
   "cell_type": "code",
   "source": [
    "# Question 2.2\n",
    "states = [0, 1, 2]\n",
    "T = 4\n",
    "initial_state = 0\n",
    "\n",
    "valid_paths = []\n",
    "valid_path_probs = []\n",
    "valid_costs = []\n",
    "\n",
    "# Generate all paths of T=4\n",
    "for path in product(states, repeat=T):\n",
    "    full_path = (initial_state,) + path\n",
    "    if set(full_path) == {0, 1, 2}:\n",
    "        prob = 1.0\n",
    "        cost = 0.0\n",
    "        for i in range(1, len(full_path)):\n",
    "            prob *= P[full_path[i - 1], full_path[i]]\n",
    "        valid_paths.append(full_path)\n",
    "        valid_path_probs.append(prob)\n",
    "        for i in range(0, len(full_path) - 1):\n",
    "            cost += visit_cost(full_path[i]+1)\n",
    "        cost += terminate_cost(full_path[-1] + 1)\n",
    "        valid_costs.append(cost * prob)\n",
    "print(sum(valid_costs))"
   ],
   "id": "db578a60a2bc2304",
   "outputs": [
    {
     "name": "stdout",
     "output_type": "stream",
     "text": [
      "11.145600000000002\n"
     ]
    }
   ],
   "execution_count": 17
  },
  {
   "metadata": {},
   "cell_type": "code",
   "outputs": [],
   "execution_count": null,
   "source": "",
   "id": "9d71a20ab2d86819"
  }
 ],
 "metadata": {
  "kernelspec": {
   "display_name": "Python 3",
   "language": "python",
   "name": "python3"
  },
  "language_info": {
   "codemirror_mode": {
    "name": "ipython",
    "version": 2
   },
   "file_extension": ".py",
   "mimetype": "text/x-python",
   "name": "python",
   "nbconvert_exporter": "python",
   "pygments_lexer": "ipython2",
   "version": "2.7.6"
  }
 },
 "nbformat": 4,
 "nbformat_minor": 5
}
